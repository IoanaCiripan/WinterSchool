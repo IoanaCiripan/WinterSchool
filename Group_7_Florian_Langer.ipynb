{
  "nbformat": 4,
  "nbformat_minor": 0,
  "metadata": {
    "colab": {
      "name": "Group 7 - Florian Langer.ipynb",
      "provenance": [],
      "authorship_tag": "ABX9TyMWozIvHquNFvT9Cj6llP1U",
      "include_colab_link": true
    },
    "kernelspec": {
      "name": "python3",
      "display_name": "Python 3"
    }
  },
  "cells": [
    {
      "cell_type": "markdown",
      "metadata": {
        "id": "view-in-github",
        "colab_type": "text"
      },
      "source": [
        "<a href=\"https://colab.research.google.com/github/IoanaCiripan/WinterSchool/blob/branch_Florian/Group_7_Florian_Langer.ipynb\" target=\"_parent\"><img src=\"https://colab.research.google.com/assets/colab-badge.svg\" alt=\"Open In Colab\"/></a>"
      ]
    },
    {
      "cell_type": "markdown",
      "metadata": {
        "id": "O7txQC76tOp8"
      },
      "source": [
        "# This is Florian's Colab Notebook\r\n"
      ]
    },
    {
      "cell_type": "code",
      "metadata": {
        "id": "PILDMf_dJKDJ",
        "colab": {
          "base_uri": "https://localhost:8080/"
        },
        "outputId": "6de6ec90-2230-4326-e974-30449ac91a16"
      },
      "source": [
        "import json\r\n",
        "\r\n",
        "\r\n",
        "path = '/content/video_out_000000000041_keypoints.json'\r\n",
        "\r\n",
        "with open(path) as file:\r\n",
        "  data = json.load(file)\r\n",
        "\r\n",
        "\r\n",
        "# print(data)\r\n",
        "\r\n",
        "version = data[\"version\"]\r\n",
        "people = data[\"people\"]\r\n",
        "\r\n",
        "first_person = people[0]\r\n",
        "\r\n",
        "pose_keypoints = first_person[\"pose_keypoints_2d\"]\r\n",
        "\r\n",
        "nose = 0\r\n",
        "chest = 1\r\n",
        "shoulder_right = 2\r\n",
        "shoulder_left = 5\r\n",
        "\r\n",
        "pos_nose = [pose_keypoints[nose*3] , pose_keypoints[nose*3 + 1]]\r\n",
        "pos_chest = [pose_keypoints[chest*3] , pose_keypoints[chest*3 + 1]]\r\n",
        "pos_shoulder_right = [pose_keypoints[shoulder_right*3] , pose_keypoints[shoulder_right*3 + 1]]\r\n",
        "pos_shoulder_left = [pose_keypoints[shoulder_left*3] , pose_keypoints[shoulder_left*3 + 1]]\r\n",
        "print(pose_keypoints)\r\n",
        "print(pos_nose)\r\n",
        "print(pos_chest)\r\n",
        "print(pos_shoulder_right)\r\n",
        "print(pos_shoulder_left)\r\n",
        "\r\n",
        "\r\n",
        "\r\n",
        "\r\n",
        "def slope(point1, point2):\r\n",
        "  if (point2[0] - point1[0]) == 0:\r\n",
        "    print(\"The line is horizontal\")\r\n",
        "  else:\r\n",
        "    m = (point2[1] - point1[1]) / (point2[0] - point1[0])\r\n",
        "    print(\"Slope: \" + str(m))\r\n",
        "\r\n",
        "right_shoulder_list = [(1, 2), (3, 4), (5, 6)]\r\n",
        "left_shoulder_list = [(1, 2), (3, 4), (5, 6)]\r\n",
        "\r\n",
        "slope(list_right_shoulder[0], list_left_shoulder[0])\r\n",
        "\r\n",
        "\r\n",
        "\r\n",
        "\r\n",
        "\r\n",
        "\r\n",
        "\r\n"
      ],
      "execution_count": 76,
      "outputs": [
        {
          "output_type": "stream",
          "text": [
            "[431.54, 182.756, 0.845377, 429.613, 306.141, 0.776304, 290.52, 319.82, 0.615547, 274.8, 533.374, 0.638492, 257.151, 715.608, 0.0892958, 568.627, 292.441, 0.548779, 760.68, 306.229, 0.46209, 952.667, 315.929, 0.690056, 476.573, 694.025, 0.188095, 374.687, 688.152, 0.144204, 0, 0, 0, 0, 0, 0, 564.724, 680.311, 0.184034, 0, 0, 0, 0, 0, 0, 398.143, 151.423, 0.870367, 458.944, 151.363, 0.881535, 351.196, 165.043, 0.808638, 484.421, 165.05, 0.511698, 0, 0, 0, 0, 0, 0, 0, 0, 0, 0, 0, 0, 0, 0, 0, 0, 0, 0]\n",
            "[431.54, 182.756]\n",
            "[429.613, 306.141]\n",
            "[290.52, 319.82]\n",
            "[568.627, 292.441]\n",
            "The line is horizontal\n"
          ],
          "name": "stdout"
        }
      ]
    },
    {
      "cell_type": "code",
      "metadata": {
        "id": "lnKSjkC1KM5v"
      },
      "source": [
        "\r\n"
      ],
      "execution_count": null,
      "outputs": []
    }
  ]
}