{
  "nbformat": 4,
  "nbformat_minor": 0,
  "metadata": {
    "colab": {
      "name": "Ioana Ciripan (Coach) .ipynb",
      "provenance": [],
      "authorship_tag": "ABX9TyPtFbi1xjk0C74847oLSlTO",
      "include_colab_link": true
    },
    "kernelspec": {
      "name": "python3",
      "display_name": "Python 3"
    }
  },
  "cells": [
    {
      "cell_type": "markdown",
      "metadata": {
        "id": "view-in-github",
        "colab_type": "text"
      },
      "source": [
        "<a href=\"https://colab.research.google.com/github/IoanaCiripan/WinterSchool/blob/main/Ioana_Ciripan_(Coach)_.ipynb\" target=\"_parent\"><img src=\"https://colab.research.google.com/assets/colab-badge.svg\" alt=\"Open In Colab\"/></a>"
      ]
    },
    {
      "cell_type": "code",
      "metadata": {
        "id": "4citOU1Rr1Ka",
        "colab": {
          "base_uri": "https://localhost:8080/"
        },
        "outputId": "5b2ea0d4-3687-4f30-aded-934e94617b39"
      },
      "source": [
        "import json\r\n",
        "path = \"/content/json_test.json\"\r\n",
        "\r\n",
        "with open(path) as file:\r\n",
        "    data = json.load(file)\r\n",
        "\r\n",
        "#print(data)\r\n",
        "version = data[\"version\"]\r\n",
        "people = data[\"people\"]\r\n",
        "\r\n",
        "first_person = people[0]\r\n",
        "\r\n",
        "pose_keypoints = first_person[\"pose_keypoints_2d\"]\r\n",
        "\r\n",
        "print(pose_keypoints)\r\n",
        "\r\n",
        "nose_position = 0\r\n",
        "chest_position = 1\r\n",
        "shoulder_right_position = 2\r\n",
        "shoulder_left_position = 5\r\n",
        "\r\n",
        "# nose = [pose_keypoints[nose*3], pose_keypoints[nose*3 + 1]]\r\n",
        "# chest = [pose_keypoints[chest*3], pose_keypoints[chest*3 + 1]]\r\n",
        "shoulder_right = [pose_keypoints[shoulder_right*3], pose_keypoints[shoulder_right*3 + 1]]\r\n",
        "shoulder_left = [pose_keypoints[shoulder_left*3], pose_keypoints[shoulder_left*3 + 1]]\r\n",
        "\r\n",
        "# print(nose)\r\n",
        "# print(chest)\r\n",
        "print(shoulder_right)\r\n",
        "print(shoulder_left)\r\n",
        "\r\n",
        "\r\n",
        "\r\n",
        "\r\n"
      ],
      "execution_count": null,
      "outputs": [
        {
          "output_type": "stream",
          "text": [
            "[431.54, 182.756, 0.845377, 429.613, 306.141, 0.776304, 290.52, 319.82, 0.615547, 274.8, 533.374, 0.638492, 257.151, 715.608, 0.0892958, 568.627, 292.441, 0.548779, 760.68, 306.229, 0.46209, 952.667, 315.929, 0.690056, 476.573, 694.025, 0.188095, 374.687, 688.152, 0.144204, 0, 0, 0, 0, 0, 0, 564.724, 680.311, 0.184034, 0, 0, 0, 0, 0, 0, 398.143, 151.423, 0.870367, 458.944, 151.363, 0.881535, 351.196, 165.043, 0.808638, 484.421, 165.05, 0.511698, 0, 0, 0, 0, 0, 0, 0, 0, 0, 0, 0, 0, 0, 0, 0, 0, 0, 0]\n",
            "[431.54, 182.756]\n",
            "[429.613, 306.141]\n",
            "[290.52, 319.82]\n",
            "[568.627, 292.441]\n"
          ],
          "name": "stdout"
        }
      ]
    }
  ]
}