{
  "nbformat": 4,
  "nbformat_minor": 0,
  "metadata": {
    "colab": {
      "name": "Noemi.ipynb",
      "provenance": [],
      "collapsed_sections": [],
      "include_colab_link": true
    },
    "kernelspec": {
      "name": "python3",
      "display_name": "Python 3"
    }
  },
  "cells": [
    {
      "cell_type": "markdown",
      "metadata": {
        "id": "view-in-github",
        "colab_type": "text"
      },
      "source": [
        "<a href=\"https://colab.research.google.com/github/IoanaCiripan/WinterSchool/blob/branch_No%C3%ABmi/Noemi.ipynb\" target=\"_parent\"><img src=\"https://colab.research.google.com/assets/colab-badge.svg\" alt=\"Open In Colab\"/></a>"
      ]
    },
    {
      "cell_type": "code",
      "metadata": {
        "colab": {
          "base_uri": "https://localhost:8080/"
        },
        "id": "E5VY0B7-tMFf",
        "outputId": "c95cb372-1944-467d-e469-69a81dc1e207"
      },
      "source": [
        "from google.colab import drive\n",
        "drive.mount('/content/drive')\n"
      ],
      "execution_count": null,
      "outputs": [
        {
          "output_type": "stream",
          "text": [
            "Mounted at /content/drive\n"
          ],
          "name": "stdout"
        }
      ]
    },
    {
      "cell_type": "code",
      "metadata": {
        "colab": {
          "base_uri": "https://localhost:8080/"
        },
        "id": "McwnFT84Ly-l",
        "outputId": "bbdd78aa-cbbf-4ae7-d042-e8b844642f1c"
      },
      "source": [
        "import json\n",
        "path = \"/content/video_out_000000000041_keypoints.json\"\n",
        "\n",
        "with open(path) as file:\n",
        "    data = json.load(file)\n",
        "\n",
        "#print(data)\n",
        "version = data[\"version\"]\n",
        "people = data[\"people\"]\n",
        "\n",
        "first_person = people[0]\n",
        "\n",
        "pose_keypoints = first_person[\"pose_keypoints_2d\"]\n",
        "\n",
        "print(pose_keypoints)\n",
        "\n",
        "nose = 0\n",
        "chest = 1\n",
        "shoulder_right = 2\n",
        "shoulder_left = 5\n",
        "\n",
        "\n",
        "nose = pose_keypoints[nose*3],pose_keypoints[nose*3 + 1]\n",
        "chest = pose_keypoints[chest*3],pose_keypoints[chest*3 + 1]\n",
        "shoulder_left = pose_keypoints[shoulder_left*3],pose_keypoints[shoulder_left*3 + 1]\n",
        "shoulder_right = pose_keypoints[shoulder_right*3],pose_keypoints[shoulder_right*3 +1]\n",
        "\n",
        "print(nose)\n",
        "print(chest)\n",
        "print(shoulder_left)\n",
        "print(shoulder_right)"
      ],
      "execution_count": null,
      "outputs": [
        {
          "output_type": "stream",
          "text": [
            "[431.54, 182.756, 0.845377, 429.613, 306.141, 0.776304, 290.52, 319.82, 0.615547, 274.8, 533.374, 0.638492, 257.151, 715.608, 0.0892958, 568.627, 292.441, 0.548779, 760.68, 306.229, 0.46209, 952.667, 315.929, 0.690056, 476.573, 694.025, 0.188095, 374.687, 688.152, 0.144204, 0, 0, 0, 0, 0, 0, 564.724, 680.311, 0.184034, 0, 0, 0, 0, 0, 0, 398.143, 151.423, 0.870367, 458.944, 151.363, 0.881535, 351.196, 165.043, 0.808638, 484.421, 165.05, 0.511698, 0, 0, 0, 0, 0, 0, 0, 0, 0, 0, 0, 0, 0, 0, 0, 0, 0, 0]\n",
            "(431.54, 182.756)\n",
            "(429.613, 306.141)\n",
            "(568.627, 292.441)\n",
            "(290.52, 319.82)\n"
          ],
          "name": "stdout"
        }
      ]
    },
    {
      "cell_type": "code",
      "metadata": {
        "id": "Wt1HtSr8Q3aS"
      },
      "source": [
        "import math\n",
        "\n",
        "p1 = [x, y]\n",
        "p2 = [x, y]\n",
        "\n",
        "def get_distance(p1, p2):\n",
        "  list_distances = []\n",
        "  index = 0\n",
        "  distance = math.sqrt(((p1[0]-p2[0])**2)+((p1[1]-p2[1])**2))\n",
        "  list_distances.append(distance)\n",
        "  return distance\n",
        "\n",
        "\n",
        "print(get_distance(p1, p2))"
      ],
      "execution_count": null,
      "outputs": []
    },
    {
      "cell_type": "code",
      "metadata": {
        "id": "9NTSVmUiY29S",
        "colab": {
          "base_uri": "https://localhost:8080/",
          "height": 371
        },
        "outputId": "e5f2e8ce-d787-40e5-d41d-ca3f0d55155a"
      },
      "source": [
        "import math\n",
        "\n",
        "# p1 = [x, y]\n",
        "# p2 = [x, y]\n",
        "\n",
        "list_coordinates_right_shoulder = [[2, 3], [2, 5]]\n",
        "list_coordinates_left_shoulder = [[4, 5], [6, 2]]\n",
        "\n",
        "index = 0\n",
        "\n",
        "def distance_to_camera(p1, p2):\n",
        "  index = 0\n",
        "  list_distances = []\n",
        "  distance = math.sqrt(((p1[0]-p2[0])**2)+((p1[1]-p2[1])**2))\n",
        "  list_distances.append(distance)\n",
        "  if list_distances[index] < list_distances[index + 1]:\n",
        "    print(\"leaning forwards\")\n",
        "  elif list_distances[index + 1] > list_distances[index]:\n",
        "    print(\"leaning backwards\")\n",
        "  else:\n",
        "    None\n",
        "\n",
        "while index <= len(list_coordinates_right_shoulder):\n",
        "  p1 = list_coordinates_right_shoulder[index]\n",
        "  p2 = list_coordinates_left_shoulder[index]\n",
        "  distance_to_camera(p1, p2)\n",
        "  index = index + 1\n",
        "\n",
        "\n",
        "\n",
        "\n",
        "print(distance_to_camera(p1, p2))"
      ],
      "execution_count": null,
      "outputs": [
        {
          "output_type": "error",
          "ename": "IndexError",
          "evalue": "ignored",
          "traceback": [
            "\u001b[0;31m---------------------------------------------------------------------------\u001b[0m",
            "\u001b[0;31mIndexError\u001b[0m                                Traceback (most recent call last)",
            "\u001b[0;32m<ipython-input-4-9b89df5a091a>\u001b[0m in \u001b[0;36m<module>\u001b[0;34m()\u001b[0m\n\u001b[1;32m     23\u001b[0m   \u001b[0mp1\u001b[0m \u001b[0;34m=\u001b[0m \u001b[0mlist_coordinates_right_shoulder\u001b[0m\u001b[0;34m[\u001b[0m\u001b[0mindex\u001b[0m\u001b[0;34m]\u001b[0m\u001b[0;34m\u001b[0m\u001b[0;34m\u001b[0m\u001b[0m\n\u001b[1;32m     24\u001b[0m   \u001b[0mp2\u001b[0m \u001b[0;34m=\u001b[0m \u001b[0mlist_coordinates_left_shoulder\u001b[0m\u001b[0;34m[\u001b[0m\u001b[0mindex\u001b[0m\u001b[0;34m]\u001b[0m\u001b[0;34m\u001b[0m\u001b[0;34m\u001b[0m\u001b[0m\n\u001b[0;32m---> 25\u001b[0;31m   \u001b[0mdistance_to_camera\u001b[0m\u001b[0;34m(\u001b[0m\u001b[0mp1\u001b[0m\u001b[0;34m,\u001b[0m \u001b[0mp2\u001b[0m\u001b[0;34m)\u001b[0m\u001b[0;34m\u001b[0m\u001b[0;34m\u001b[0m\u001b[0m\n\u001b[0m\u001b[1;32m     26\u001b[0m   \u001b[0mindex\u001b[0m \u001b[0;34m=\u001b[0m \u001b[0mindex\u001b[0m \u001b[0;34m+\u001b[0m \u001b[0;36m1\u001b[0m\u001b[0;34m\u001b[0m\u001b[0;34m\u001b[0m\u001b[0m\n\u001b[1;32m     27\u001b[0m \u001b[0;34m\u001b[0m\u001b[0m\n",
            "\u001b[0;32m<ipython-input-4-9b89df5a091a>\u001b[0m in \u001b[0;36mdistance_to_camera\u001b[0;34m(p1, p2)\u001b[0m\n\u001b[1;32m     13\u001b[0m   \u001b[0mdistance\u001b[0m \u001b[0;34m=\u001b[0m \u001b[0mmath\u001b[0m\u001b[0;34m.\u001b[0m\u001b[0msqrt\u001b[0m\u001b[0;34m(\u001b[0m\u001b[0;34m(\u001b[0m\u001b[0;34m(\u001b[0m\u001b[0mp1\u001b[0m\u001b[0;34m[\u001b[0m\u001b[0;36m0\u001b[0m\u001b[0;34m]\u001b[0m\u001b[0;34m-\u001b[0m\u001b[0mp2\u001b[0m\u001b[0;34m[\u001b[0m\u001b[0;36m0\u001b[0m\u001b[0;34m]\u001b[0m\u001b[0;34m)\u001b[0m\u001b[0;34m**\u001b[0m\u001b[0;36m2\u001b[0m\u001b[0;34m)\u001b[0m\u001b[0;34m+\u001b[0m\u001b[0;34m(\u001b[0m\u001b[0;34m(\u001b[0m\u001b[0mp1\u001b[0m\u001b[0;34m[\u001b[0m\u001b[0;36m1\u001b[0m\u001b[0;34m]\u001b[0m\u001b[0;34m-\u001b[0m\u001b[0mp2\u001b[0m\u001b[0;34m[\u001b[0m\u001b[0;36m1\u001b[0m\u001b[0;34m]\u001b[0m\u001b[0;34m)\u001b[0m\u001b[0;34m**\u001b[0m\u001b[0;36m2\u001b[0m\u001b[0;34m)\u001b[0m\u001b[0;34m)\u001b[0m\u001b[0;34m\u001b[0m\u001b[0;34m\u001b[0m\u001b[0m\n\u001b[1;32m     14\u001b[0m   \u001b[0mlist_distances\u001b[0m\u001b[0;34m.\u001b[0m\u001b[0mappend\u001b[0m\u001b[0;34m(\u001b[0m\u001b[0mdistance\u001b[0m\u001b[0;34m)\u001b[0m\u001b[0;34m\u001b[0m\u001b[0;34m\u001b[0m\u001b[0m\n\u001b[0;32m---> 15\u001b[0;31m   \u001b[0;32mif\u001b[0m \u001b[0mlist_distances\u001b[0m\u001b[0;34m[\u001b[0m\u001b[0mindex\u001b[0m\u001b[0;34m]\u001b[0m \u001b[0;34m<\u001b[0m \u001b[0mlist_distances\u001b[0m\u001b[0;34m[\u001b[0m\u001b[0mindex\u001b[0m \u001b[0;34m+\u001b[0m \u001b[0;36m1\u001b[0m\u001b[0;34m]\u001b[0m\u001b[0;34m:\u001b[0m\u001b[0;34m\u001b[0m\u001b[0;34m\u001b[0m\u001b[0m\n\u001b[0m\u001b[1;32m     16\u001b[0m     \u001b[0mprint\u001b[0m\u001b[0;34m(\u001b[0m\u001b[0;34m\"leaning forwards\"\u001b[0m\u001b[0;34m)\u001b[0m\u001b[0;34m\u001b[0m\u001b[0;34m\u001b[0m\u001b[0m\n\u001b[1;32m     17\u001b[0m   \u001b[0;32melif\u001b[0m \u001b[0mlist_distances\u001b[0m\u001b[0;34m[\u001b[0m\u001b[0mindex\u001b[0m \u001b[0;34m+\u001b[0m \u001b[0;36m1\u001b[0m\u001b[0;34m]\u001b[0m \u001b[0;34m>\u001b[0m \u001b[0mlist_distances\u001b[0m\u001b[0;34m[\u001b[0m\u001b[0mindex\u001b[0m\u001b[0;34m]\u001b[0m\u001b[0;34m:\u001b[0m\u001b[0;34m\u001b[0m\u001b[0;34m\u001b[0m\u001b[0m\n",
            "\u001b[0;31mIndexError\u001b[0m: list index out of range"
          ]
        }
      ]
    }
  ]
}