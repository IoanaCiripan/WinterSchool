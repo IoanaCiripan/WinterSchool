{
  "nbformat": 4,
  "nbformat_minor": 0,
  "metadata": {
    "colab": {
      "name": "Group 7 - Wanja.ipynb",
      "provenance": [],
      "include_colab_link": true
    },
    "kernelspec": {
      "name": "python3",
      "display_name": "Python 3"
    }
  },
  "cells": [
    {
      "cell_type": "markdown",
      "metadata": {
        "id": "view-in-github",
        "colab_type": "text"
      },
      "source": [
        "<a href=\"https://colab.research.google.com/github/IoanaCiripan/WinterSchool/blob/main/Group_7_Wanja.ipynb\" target=\"_parent\"><img src=\"https://colab.research.google.com/assets/colab-badge.svg\" alt=\"Open In Colab\"/></a>"
      ]
    },
    {
      "cell_type": "code",
      "metadata": {
        "id": "CDNWeFUDsTcV"
      },
      "source": [
        "#This is Wanjas Colab Notebook"
      ],
      "execution_count": null,
      "outputs": []
    },
    {
      "cell_type": "code",
      "metadata": {
        "colab": {
          "base_uri": "https://localhost:8080/"
        },
        "id": "v089tl0RsirI",
        "outputId": "65f264ea-61fd-41be-8f85-86e1f85b249e"
      },
      "source": [
        "from google.colab import drive\r\n",
        "drive.mount('/content/drive')"
      ],
      "execution_count": null,
      "outputs": [
        {
          "output_type": "stream",
          "text": [
            "Drive already mounted at /content/drive; to attempt to forcibly remount, call drive.mount(\"/content/drive\", force_remount=True).\n"
          ],
          "name": "stdout"
        }
      ]
    },
    {
      "cell_type": "code",
      "metadata": {
        "id": "g7yZV2r_JGqx"
      },
      "source": [
        "import json\r\n",
        "import os"
      ],
      "execution_count": null,
      "outputs": []
    },
    {
      "cell_type": "code",
      "metadata": {
        "colab": {
          "base_uri": "https://localhost:8080/"
        },
        "id": "qxuRvjuYuSMz",
        "outputId": "fbdd01a0-29ff-4b33-d99d-79a7d091bede"
      },
      "source": [
        "path = \"/content/video_out_000000000041_keypoints.json\"\r\n",
        "\r\n",
        "with open(path) as file:\r\n",
        "  data = json.load(file)\r\n",
        "\r\n",
        "print(file)\r\n",
        "print(data)\r\n",
        "people_data = data['people']\r\n",
        "print(people_data)\r\n",
        "intermediate_step = people_data[0]\r\n",
        "keypoints = intermediate_step['pose_keypoints_2d']\r\n",
        "print(keypoints)\r\n",
        "face = keypoints[0:3]\r\n",
        "print(face)\r\n",
        "#face = str(keypoints[0]) + \", \" + str(keypoints[1]) + \", \" + str(keypoints[2])\r\n",
        "shoulder_left = keypoints[6:9]\r\n",
        "print(shoulder_left)\r\n",
        "shoulder_right = keypoints[:23]\r\n",
        "print(shoulder_right)\r\n",
        "\r\n",
        "\r\n",
        "for element in keypoints:\r\n",
        "  a = 0\r\n",
        "  while i <= 3:\r\n",
        "    b = element \r\n",
        "\r\n",
        "    i += 1\r\n",
        "\r\n"
      ],
      "execution_count": 86,
      "outputs": [
        {
          "output_type": "stream",
          "text": [
            "<_io.TextIOWrapper name='/content/video_out_000000000041_keypoints.json' mode='r' encoding='UTF-8'>\n",
            "{'version': 1.3, 'people': [{'person_id': [-1], 'pose_keypoints_2d': [431.54, 182.756, 0.845377, 429.613, 306.141, 0.776304, 290.52, 319.82, 0.615547, 274.8, 533.374, 0.638492, 257.151, 715.608, 0.0892958, 568.627, 292.441, 0.548779, 760.68, 306.229, 0.46209, 952.667, 315.929, 0.690056, 476.573, 694.025, 0.188095, 374.687, 688.152, 0.144204, 0, 0, 0, 0, 0, 0, 564.724, 680.311, 0.184034, 0, 0, 0, 0, 0, 0, 398.143, 151.423, 0.870367, 458.944, 151.363, 0.881535, 351.196, 165.043, 0.808638, 484.421, 165.05, 0.511698, 0, 0, 0, 0, 0, 0, 0, 0, 0, 0, 0, 0, 0, 0, 0, 0, 0, 0], 'face_keypoints_2d': [], 'hand_left_keypoints_2d': [], 'hand_right_keypoints_2d': [], 'pose_keypoints_3d': [], 'face_keypoints_3d': [], 'hand_left_keypoints_3d': [], 'hand_right_keypoints_3d': []}]}\n",
            "[{'person_id': [-1], 'pose_keypoints_2d': [431.54, 182.756, 0.845377, 429.613, 306.141, 0.776304, 290.52, 319.82, 0.615547, 274.8, 533.374, 0.638492, 257.151, 715.608, 0.0892958, 568.627, 292.441, 0.548779, 760.68, 306.229, 0.46209, 952.667, 315.929, 0.690056, 476.573, 694.025, 0.188095, 374.687, 688.152, 0.144204, 0, 0, 0, 0, 0, 0, 564.724, 680.311, 0.184034, 0, 0, 0, 0, 0, 0, 398.143, 151.423, 0.870367, 458.944, 151.363, 0.881535, 351.196, 165.043, 0.808638, 484.421, 165.05, 0.511698, 0, 0, 0, 0, 0, 0, 0, 0, 0, 0, 0, 0, 0, 0, 0, 0, 0, 0], 'face_keypoints_2d': [], 'hand_left_keypoints_2d': [], 'hand_right_keypoints_2d': [], 'pose_keypoints_3d': [], 'face_keypoints_3d': [], 'hand_left_keypoints_3d': [], 'hand_right_keypoints_3d': []}]\n",
            "[431.54, 182.756, 0.845377, 429.613, 306.141, 0.776304, 290.52, 319.82, 0.615547, 274.8, 533.374, 0.638492, 257.151, 715.608, 0.0892958, 568.627, 292.441, 0.548779, 760.68, 306.229, 0.46209, 952.667, 315.929, 0.690056, 476.573, 694.025, 0.188095, 374.687, 688.152, 0.144204, 0, 0, 0, 0, 0, 0, 564.724, 680.311, 0.184034, 0, 0, 0, 0, 0, 0, 398.143, 151.423, 0.870367, 458.944, 151.363, 0.881535, 351.196, 165.043, 0.808638, 484.421, 165.05, 0.511698, 0, 0, 0, 0, 0, 0, 0, 0, 0, 0, 0, 0, 0, 0, 0, 0, 0, 0]\n",
            "[431.54, 182.756, 0.845377]\n",
            "[290.52, 319.82, 0.615547]\n",
            "[431.54, 182.756, 0.845377, 429.613, 306.141, 0.776304, 290.52, 319.82, 0.615547, 274.8, 533.374, 0.638492, 257.151, 715.608, 0.0892958, 568.627, 292.441, 0.548779, 760.68, 306.229, 0.46209, 952.667, 315.929]\n"
          ],
          "name": "stdout"
        }
      ]
    },
    {
      "cell_type": "code",
      "metadata": {
        "colab": {
          "base_uri": "https://localhost:8080/"
        },
        "id": "0tTPabf1S42P",
        "outputId": "4229b9f7-bbe9-4f2e-d80f-4276ba837b7e"
      },
      "source": [
        "nose_position = 0\r\n",
        "chest_position = 1*3\r\n",
        "right_shoulder_position = 2*3\r\n",
        "right_elbow_position = 3*3\r\n",
        "right_hand_position = 4*3\r\n",
        "left_shoulder_position = 5*3\r\n",
        "left_elbow_position = 6*3\r\n",
        "left_hand_position = 7*3\r\n",
        "\r\n",
        "'''\r\n",
        "nose = keypoints[nose_position], keypoints[nose_position + 1], keypoints[nose_position + 2]\r\n",
        "chest = keypoints[chest_position], keypoints[chest_position + 1], keypoints[chest_position + 2]\r\n",
        "right_shoulder = keypoints[right_shoulder_position], keypoints[right_shoulder_position + 1],keypoints[right_shoulder_position + 2]\r\n",
        "right_elbow = keypoints[right_elbow_position], keypoints[right_elbow_position + 1], keypoints[right_elbow_position + 2]\r\n",
        "right_hand = keypoints[right_hand_position], keypoints[right_hand_position + 1], keypoints[right_hand_position + 2]\r\n",
        "left_shoulder = keypoints[left_shoulder_position], keypoints[left_shoulder_position + 1], keypoints[left_shoulder_position + 2]\r\n",
        "left_elbow = keypoints[left_elbow_position], keypoints[left_elbow_position + 1], keypoints[left_elbow_position + 2]\r\n",
        "left_hand = keypoints[left_hand_position], keypoints[left_hand_position + 1], keypoints[left_hand_position + 2]\r\n",
        "'''\r\n",
        "\r\n",
        "nose = keypoints[nose_position], keypoints[nose_position + 1]\r\n",
        "chest = keypoints[chest_position], keypoints[chest_position + 1]\r\n",
        "right_shoulder = keypoints[right_shoulder_position], keypoints[right_shoulder_position + 1]\r\n",
        "right_elbow = keypoints[right_elbow_position], keypoints[right_elbow_position + 1]\r\n",
        "right_hand = keypoints[right_hand_position], keypoints[right_hand_position + 1]\r\n",
        "left_shoulder = keypoints[left_shoulder_position], keypoints[left_shoulder_position + 1]\r\n",
        "left_elbow = keypoints[left_elbow_position], keypoints[left_elbow_position + 1]\r\n",
        "left_hand = keypoints[left_hand_position], keypoints[left_hand_position + 1]\r\n",
        "\r\n",
        "print(nose)\r\n",
        "print(chest)\r\n",
        "print(right_shoulder)\r\n",
        "print(right_elbow)\r\n",
        "print(right_hand)\r\n",
        "print(left_shoulder)\r\n",
        "print(left_elbow)\r\n",
        "print(left_hand)\r\n"
      ],
      "execution_count": 87,
      "outputs": [
        {
          "output_type": "stream",
          "text": [
            "(431.54, 182.756)\n",
            "(429.613, 306.141)\n",
            "(290.52, 319.82)\n",
            "(274.8, 533.374)\n",
            "(257.151, 715.608)\n",
            "(568.627, 292.441)\n",
            "(760.68, 306.229)\n",
            "(952.667, 315.929)\n"
          ],
          "name": "stdout"
        }
      ]
    },
    {
      "cell_type": "markdown",
      "metadata": {
        "id": "eNZ0q8jHWjCX"
      },
      "source": [
        "create tuples for each frame by iterating over all the frames\r\n",
        "    1 for all of the left shoulders\r\n",
        "    2 for all of the right shoulders\r\n",
        "function to find distance between shoulders\r\n",
        "function to find slope between shoulders\r\n",
        "function to identify distance to camera "
      ]
    },
    {
      "cell_type": "code",
      "metadata": {
        "colab": {
          "base_uri": "https://localhost:8080/"
        },
        "id": "NVVJD4U4ZHqN",
        "outputId": "e0939491-c9e6-46f7-b750-f573e29b4de7"
      },
      "source": [
        "output_path = \"/content/drive/MyDrive/2021-02-SHSG Winter School/output\"\r\n",
        "\r\n",
        "print(output_path)"
      ],
      "execution_count": 88,
      "outputs": [
        {
          "output_type": "stream",
          "text": [
            "/content/drive/MyDrive/2021-02-SHSG Winter School/output\n"
          ],
          "name": "stdout"
        }
      ]
    },
    {
      "cell_type": "code",
      "metadata": {
        "colab": {
          "base_uri": "https://localhost:8080/"
        },
        "id": "5LdTEdLqboCr",
        "outputId": "b67beeb9-d8d4-4d54-b180-940608a7ba5c"
      },
      "source": [
        "\r\n",
        "\r\n",
        "i = 0\r\n",
        "\r\n",
        "right_shoulder_list = []\r\n",
        "left_shoulder_list = []\r\n",
        "\r\n",
        "for element in output_path:\r\n",
        "  if i < 10:\r\n",
        "    file_path = output_path + \"/video_out_00000000000\" + str(i) + \"_keypoints.json\"\r\n",
        "  elif i < 100:\r\n",
        "    file_path = output_path + \"/video_out_0000000000\" + str(i) + \"_keypoints.json\"\r\n",
        "  elif i >= 100: \r\n",
        "    file_path = output_path + \"/video_out_000000000\" + str(i) + \"_keypoints.json\"\r\n",
        "  with open(file_path) as file: \r\n",
        "    data = json.load(file)\r\n",
        "    people_data = data['people']\r\n",
        "    intermediate_step = people_data[0]\r\n",
        "    keypoints = intermediate_step['pose_keypoints_2d']\r\n",
        "\r\n",
        "    nose = keypoints[nose_position], keypoints[nose_position + 1]\r\n",
        "    chest = keypoints[chest_position], keypoints[chest_position + 1]\r\n",
        "    right_shoulder = keypoints[right_shoulder_position], keypoints[right_shoulder_position + 1]\r\n",
        "    right_elbow = keypoints[right_elbow_position], keypoints[right_elbow_position + 1]\r\n",
        "    right_hand = keypoints[right_hand_position], keypoints[right_hand_position + 1]\r\n",
        "    left_shoulder = keypoints[left_shoulder_position], keypoints[left_shoulder_position + 1]\r\n",
        "    left_elbow = keypoints[left_elbow_position], keypoints[left_elbow_position + 1]\r\n",
        "    left_hand = keypoints[left_hand_position], keypoints[left_hand_position + 1]\r\n",
        "    \r\n",
        "    right_shoulder_list.append(right_shoulder)\r\n",
        "    left_shoulder_list.append(left_shoulder)\r\n",
        "  i += 1 \r\n",
        "\r\n",
        "print(right_shoulder_list)\r\n",
        "print(left_shoulder_list)\r\n",
        "print(right_shoulder_list[42])\r\n",
        "  "
      ],
      "execution_count": 89,
      "outputs": [
        {
          "output_type": "stream",
          "text": [
            "[(290.45, 315.875), (290.449, 315.877), (290.449, 315.877), (290.448, 315.875), (290.448, 315.877), (290.449, 315.879), (294.349, 315.894), (302.229, 313.949), (304.171, 315.922), (306.096, 317.817), (306.088, 317.85), (306.149, 317.876), (308.073, 319.774), (306.182, 319.84), (308.069, 319.858), (308.079, 319.865), (308.068, 319.807), (306.188, 319.787), (306.109, 317.897), (306.078, 317.878), (304.15, 317.851), (304.136, 313.988), (302.211, 313.935), (300.27, 313.936), (302.232, 310.057), (304.104, 310.045), (302.234, 310.073), (302.216, 311.983), (302.219, 311.986), (302.216, 312.018), (302.228, 312.021), (302.163, 313.927), (300.229, 313.929), (296.328, 315.907), (296.319, 315.943), (294.347, 317.9), (294.365, 317.87), (292.469, 317.873), (292.452, 317.881), (292.385, 319.791), (292.397, 319.82), (290.52, 319.82), (290.498, 319.851), (290.443, 319.891), (290.421, 321.756), (290.407, 321.739), (290.43, 321.744), (290.415, 321.733), (290.396, 319.855), (290.403, 319.838), (288.542, 319.858), (288.537, 319.864), (288.53, 319.855), (288.522, 319.866), (288.517, 319.862), (288.519, 319.86)]\n",
            "[(541.17, 329.655), (541.171, 329.655), (541.173, 329.647), (541.173, 329.646), (541.17, 329.65), (541.171, 329.651), (543.162, 331.556), (549.035, 329.61), (552.953, 331.573), (554.904, 331.616), (554.92, 331.593), (554.99, 329.614), (556.862, 327.677), (556.926, 325.729), (556.928, 325.727), (556.936, 325.725), (556.915, 325.701), (556.894, 329.62), (556.861, 329.604), (554.934, 329.638), (554.915, 329.62), (553.002, 327.671), (551.036, 325.745), (552.929, 325.699), (552.912, 323.73), (551.016, 321.805), (551.029, 319.897), (552.941, 319.829), (551.04, 317.874), (552.918, 319.792), (554.891, 319.812), (556.858, 319.801), (554.934, 315.922), (560.796, 317.834), (566.705, 313.953), (564.723, 308.077), (568.618, 306.182), (570.584, 306.185), (568.627, 302.194), (570.593, 300.211), (568.632, 294.371), (568.627, 292.441), (566.662, 290.517), (566.653, 290.467), (562.793, 290.455), (562.787, 290.517), (564.7, 290.52), (560.83, 290.509), (562.767, 290.494), (558.876, 290.49), (560.816, 290.504), (558.887, 290.467), (558.882, 292.41), (558.835, 294.397), (556.92, 294.375), (556.899, 294.386)]\n",
            "(290.498, 319.851)\n"
          ],
          "name": "stdout"
        }
      ]
    }
  ]
}